{
 "cells": [
  {
   "attachments": {},
   "cell_type": "markdown",
   "metadata": {},
   "source": [
    "Imports"
   ]
  },
  {
   "cell_type": "code",
   "execution_count": 49,
   "metadata": {
    "pycharm": {
     "name": "#%%\n"
    }
   },
   "outputs": [],
   "source": [
    "import numpy as np\n",
    "import cv2\n",
    "import os\n",
    "import glob\n",
    "\n",
    "import matplotlib.pyplot as plt\n",
    "\n",
    "from cv2 import aruco\n",
    "\n",
    "from calibration_utils import *"
   ]
  },
  {
   "attachments": {},
   "cell_type": "markdown",
   "metadata": {},
   "source": [
    "Setting Source directory for camera calibration"
   ]
  },
  {
   "cell_type": "code",
   "execution_count": 50,
   "metadata": {
    "pycharm": {
     "name": "#%%\n"
    }
   },
   "outputs": [],
   "source": [
    "root = '/home/eryk-dev/Desktop/inzynieka/Calibration_Code/kalibracja__07_07_2023/'\n",
    "\n",
    "data_path = root + '/cam2/'\n",
    "\n",
    "img_ext = \"*.png\"\n",
    "\n",
    "img_shape = (1280, 720)"
   ]
  },
  {
   "attachments": {},
   "cell_type": "markdown",
   "metadata": {},
   "source": [
    "Setting calibration values"
   ]
  },
  {
   "cell_type": "code",
   "execution_count": 51,
   "metadata": {},
   "outputs": [],
   "source": [
    "board_shape = [11, 7]\n",
    "\n",
    "\n",
    "# termination criteria\n",
    "criteria = (cv2.TERM_CRITERIA_EPS + cv2.TERM_CRITERIA_MAX_ITER, 30, 0.001)\n"
   ]
  },
  {
   "attachments": {},
   "cell_type": "markdown",
   "metadata": {},
   "source": [
    "Preparing object points"
   ]
  },
  {
   "cell_type": "code",
   "execution_count": 52,
   "metadata": {
    "pycharm": {
     "name": "#%%\n"
    }
   },
   "outputs": [],
   "source": [
    "dictionary = aruco.getPredefinedDictionary(aruco.DICT_4X4_250)\n",
    "parameters =  aruco.DetectorParameters()\n",
    "arucoDetector = aruco.ArucoDetector(dictionary, parameters)\n",
    "\n",
    "\n",
    "board = aruco.CharucoBoard(board_shape, 25, 19.0, dictionary)"
   ]
  },
  {
   "attachments": {},
   "cell_type": "markdown",
   "metadata": {},
   "source": [
    "Flag to display images while collecting data."
   ]
  },
  {
   "cell_type": "code",
   "execution_count": 53,
   "metadata": {},
   "outputs": [],
   "source": [
    "display_images = False"
   ]
  },
  {
   "attachments": {},
   "cell_type": "markdown",
   "metadata": {},
   "source": [
    "Processing Images"
   ]
  },
  {
   "cell_type": "code",
   "execution_count": 54,
   "metadata": {},
   "outputs": [
    {
     "name": "stdout",
     "output_type": "stream",
     "text": [
      "90\n",
      "[1/90]\n",
      "Chessboard detected 1.png\n",
      "[2/90]\n",
      "Chessboard detected 10.png\n",
      "[3/90]\n"
     ]
    },
    {
     "name": "stdout",
     "output_type": "stream",
     "text": [
      "Chessboard detected 11.png\n",
      "[4/90]\n",
      "Chessboard detected 12.png\n",
      "[5/90]\n",
      "Chessboard detected 13.png\n",
      "[6/90]\n",
      "Chessboard detected 14.png\n",
      "[7/90]\n",
      "Chessboard detected 15.png\n",
      "[8/90]\n",
      "Chessboard detected 16.png\n",
      "[9/90]\n",
      "Chessboard detected 17.png\n",
      "[10/90]\n",
      "Chessboard detected 18.png\n",
      "[11/90]\n",
      "Chessboard detected 19.png\n",
      "[12/90]\n",
      "Chessboard detected 2.png\n",
      "[13/90]\n",
      "Chessboard detected 20.png\n",
      "[14/90]\n",
      "Chessboard detected 21.png\n",
      "[15/90]\n",
      "Chessboard detected 22.png\n",
      "[16/90]\n",
      "Chessboard detected 23.png\n",
      "[17/90]\n",
      "Chessboard detected 24.png\n",
      "[18/90]\n",
      "Chessboard detected 25.png\n",
      "[19/90]\n",
      "Chessboard detected 26.png\n",
      "[20/90]\n",
      "Chessboard detected 27.png\n",
      "[21/90]\n",
      "Chessboard detected 28.png\n",
      "[22/90]\n",
      "Chessboard detected 29.png\n",
      "[23/90]\n",
      "Chessboard detected 3.png\n",
      "[24/90]\n",
      "Chessboard detected 30.png\n",
      "[25/90]\n",
      "Chessboard detected 31.png\n",
      "[26/90]\n",
      "Chessboard detected 32.png\n",
      "[27/90]\n",
      "Chessboard detected 33.png\n",
      "[28/90]\n",
      "Chessboard detected 34.png\n",
      "[29/90]\n",
      "Chessboard detected 35.png\n",
      "[30/90]\n",
      "Chessboard detected 36.png\n",
      "[31/90]\n",
      "Chessboard detected 37.png\n",
      "[32/90]\n",
      "Chessboard detected 38.png\n",
      "[33/90]\n",
      "Chessboard detected 39.png\n",
      "[34/90]\n",
      "Chessboard detected 4.png\n",
      "[35/90]\n",
      "Chessboard detected 40.png\n",
      "[36/90]\n",
      "Chessboard detected 41.png\n",
      "[37/90]\n",
      "Chessboard detected 42.png\n",
      "[38/90]\n",
      "Chessboard detected 43.png\n",
      "[39/90]\n",
      "Chessboard detected 44.png\n",
      "[40/90]\n",
      "Chessboard detected 45.png\n",
      "[41/90]\n",
      "Chessboard detected 46.png\n",
      "[42/90]\n",
      "Chessboard detected 47.png\n",
      "[43/90]\n",
      "Chessboard detected 48.png\n",
      "[44/90]\n",
      "Chessboard detected 49.png\n",
      "[45/90]\n",
      "Chessboard detected 5.png\n",
      "[46/90]\n",
      "Chessboard detected 50.png\n",
      "[47/90]\n",
      "Chessboard detected 51.png\n",
      "[48/90]\n",
      "Chessboard detected 52.png\n",
      "[49/90]\n",
      "Chessboard detected 53.png\n",
      "[50/90]\n",
      "Chessboard detected 54.png\n",
      "[51/90]\n",
      "Chessboard detected 55.png\n",
      "[52/90]\n",
      "Chessboard detected 56.png\n",
      "[53/90]\n",
      "Chessboard detected 57.png\n",
      "[54/90]\n",
      "Chessboard detected 58.png\n",
      "[55/90]\n",
      "Chessboard detected 59.png\n",
      "[56/90]\n",
      "Chessboard detected 6.png\n",
      "[57/90]\n",
      "Chessboard detected 60.png\n",
      "[58/90]\n",
      "Chessboard detected 61.png\n",
      "[59/90]\n",
      "Chessboard detected 62.png\n",
      "[60/90]\n",
      "Chessboard detected 63.png\n",
      "[61/90]\n",
      "Chessboard detected 64.png\n",
      "[62/90]\n",
      "Chessboard detected 65.png\n",
      "[63/90]\n",
      "Chessboard detected 66.png\n",
      "[64/90]\n",
      "Chessboard detected 67.png\n",
      "[65/90]\n",
      "Chessboard detected 68.png\n",
      "[66/90]\n",
      "Chessboard detected 69.png\n",
      "[67/90]\n",
      "Chessboard detected 7.png\n",
      "[68/90]\n",
      "Chessboard detected 70.png\n",
      "[69/90]\n",
      "Chessboard detected 71.png\n",
      "[70/90]\n",
      "Chessboard detected 72.png\n",
      "[71/90]\n",
      "Chessboard detected 73.png\n",
      "[72/90]\n",
      "Chessboard detected 74.png\n",
      "[73/90]\n",
      "Chessboard detected 75.png\n",
      "[74/90]\n",
      "Chessboard detected 76.png\n",
      "[75/90]\n",
      "Chessboard detected 77.png\n",
      "[76/90]\n",
      "Chessboard detected 78.png\n",
      "[77/90]\n",
      "Chessboard detected 79.png\n",
      "[78/90]\n",
      "Chessboard detected 8.png\n",
      "[79/90]\n",
      "Chessboard detected 80.png\n",
      "[80/90]\n",
      "Chessboard detected 81.png\n",
      "[81/90]\n",
      "Chessboard detected 82.png\n",
      "[82/90]\n",
      "Chessboard detected 83.png\n",
      "[83/90]\n",
      "Chessboard detected 84.png\n",
      "[84/90]\n",
      "Chessboard detected 85.png\n",
      "[85/90]\n",
      "Chessboard detected 86.png\n",
      "[86/90]\n",
      "Chessboard detected 87.png\n",
      "[87/90]\n",
      "Chessboard detected 88.png\n",
      "[88/90]\n",
      "Chessboard detected 89.png\n",
      "[89/90]\n",
      "Chessboard detected 9.png\n",
      "[90/90]\n",
      "Chessboard detected 90.png\n",
      "\n",
      "Detected 38 points\n"
     ]
    }
   ],
   "source": [
    "\n",
    "images = glob.glob(data_path + img_ext)\n",
    "images.sort()\n",
    "\n",
    "print(len(images))\n",
    "\n",
    "criteria = (cv2.TERM_CRITERIA_EPS + cv2.TERM_CRITERIA_MAX_ITER, 100, 0.00001)\n",
    "\n",
    "corner_ids = cornerIds(board_shape)\n",
    "\n",
    "allCorners = []\n",
    "allIds = []\n",
    "decimator = 0\n",
    "\n",
    "#objPoints, imgPoints = [], []\n",
    "\n",
    "\n",
    "for i, fname in enumerate(images):\n",
    "    print(\"[\" + str((i+1)) + \"/\" + str(len(images)) + \"]\")\n",
    "    head, tail = os.path.split(fname)\n",
    "\n",
    "    bgr = cv2.imread(images[i], cv2.IMREAD_UNCHANGED)\n",
    "\n",
    "    gray = cv2.cvtColor(bgr, cv2.COLOR_BGR2GRAY)\n",
    "\n",
    "    corners, ids, rejectedCorners = arucoDetector.detectMarkers(gray)\n",
    "\n",
    "    if len(corners) > 16:\n",
    "        for corner in corners:\n",
    "            cv2.cornerSubPix(gray, corner,\n",
    "                                winSize = (3,3),\n",
    "                                zeroZone = (-1,-1),\n",
    "                                criteria = criteria)\n",
    "                    \n",
    "        res2 = aruco.interpolateCornersCharuco(corners, ids, gray, board)\n",
    "            \n",
    "        if res2[1] is not None and res2[2] is not None and len(res2[1])>3 and decimator%1==0 and max(ids) <= max(board.getIds()):\n",
    "            if is_slice_in_list(numpy.squeeze(ids).tolist(), corner_ids): # all corners are detected\n",
    "                params, board_rot_deg  = get_parameters(corners, numpy.squeeze(ids).tolist(), corner_ids, img_shape, board_shape)\n",
    "                \n",
    "                allCorners.append(res2[1])\n",
    "                allIds.append(res2[2])\n",
    "\n",
    "                decimator+=1\n",
    "                    \n",
    "                print('Chessboard detected ' + tail)\n",
    "\n",
    "                if display_images :\n",
    "                    # Draw and display the corners\n",
    "                    rgb = cv2.cvtColor(bgr, cv2.COLOR_BGR2RGB)\n",
    "                    \n",
    "                    frame_copy = aruco.drawDetectedMarkers(rgb, corners, ids)\n",
    "                    \n",
    "                    f, axarr = plt.subplots(1,1)\n",
    "                    axarr[0].imshow(frame_copy)\n",
    "                    plt.show()\n",
    "\n",
    "        else:\n",
    "            print(\"chessboards missing\")\n",
    "\n",
    "    else:\n",
    "        print(\"chessboards missing\")\n",
    "\n",
    "print(\"\\nDetected \" + str(len(corners)) + \" points\")"
   ]
  },
  {
   "attachments": {},
   "cell_type": "markdown",
   "metadata": {},
   "source": [
    "Preparing for stereo calibration"
   ]
  },
  {
   "cell_type": "code",
   "execution_count": 55,
   "metadata": {},
   "outputs": [],
   "source": [
    "stereocalib_criteria = (cv2.TERM_CRITERIA_MAX_ITER + cv2.TERM_CRITERIA_EPS, 1000, 1e-5)"
   ]
  },
  {
   "cell_type": "code",
   "execution_count": 56,
   "metadata": {},
   "outputs": [
    {
     "name": "stdout",
     "output_type": "stream",
     "text": [
      "CAMERA CALIBRATION\n"
     ]
    }
   ],
   "source": [
    "print(\"CAMERA CALIBRATION\")\n",
    "\n",
    "cameraMatrixInit = np.array([[ 1000.,    0., img_shape[0] / 2.],\n",
    "                            [    0., 1000.,  img_shape[1] / 2.],\n",
    "                            [    0.,    0.,           1.]])\n",
    "\n",
    "distCoeffsInit = np.zeros((5,1))\n",
    "\n",
    "flags = (cv2.CALIB_USE_INTRINSIC_GUESS + cv2.CALIB_RATIONAL_MODEL + cv2.CALIB_FIX_ASPECT_RATIO)\n",
    "#flags = (cv2.CALIB_RATIONAL_MODEL)"
   ]
  },
  {
   "attachments": {},
   "cell_type": "markdown",
   "metadata": {},
   "source": [
    "Stereo calibration"
   ]
  },
  {
   "cell_type": "code",
   "execution_count": 57,
   "metadata": {},
   "outputs": [
    {
     "name": "stdout",
     "output_type": "stream",
     "text": [
      "Calculating ....\n",
      "Done\n"
     ]
    }
   ],
   "source": [
    "print(\"Calculating ....\")\n",
    "\n",
    "imgPoints, objPoints = calculateImgPointsObjPoints(allIds, allCorners, board)\n",
    "\n",
    "ret, camera_matrix, distortion_coefficients, \\\n",
    "rotation_vectors, translation_vectors = cv2.calibrateCamera(\n",
    "    objectPoints=imgPoints, \n",
    "    imagePoints=objPoints, \n",
    "    imageSize=img_shape, \n",
    "    cameraMatrix=cameraMatrixInit,\n",
    "    distCoeffs=distCoeffsInit,\n",
    "    flags=flags,\n",
    "    criteria=(cv2.TERM_CRITERIA_EPS & cv2.TERM_CRITERIA_COUNT, 10000, 1e-10))\n",
    "\n",
    "print(\"Done\")"
   ]
  },
  {
   "attachments": {},
   "cell_type": "markdown",
   "metadata": {},
   "source": [
    "Display Error"
   ]
  },
  {
   "cell_type": "code",
   "execution_count": 58,
   "metadata": {},
   "outputs": [
    {
     "name": "stdout",
     "output_type": "stream",
     "text": [
      "error: 0.5748681922871426\n"
     ]
    }
   ],
   "source": [
    "print(\"error: {}\".format(ret))"
   ]
  },
  {
   "attachments": {},
   "cell_type": "markdown",
   "metadata": {},
   "source": [
    "Printing results"
   ]
  },
  {
   "cell_type": "code",
   "execution_count": 59,
   "metadata": {},
   "outputs": [
    {
     "name": "stdout",
     "output_type": "stream",
     "text": [
      "Intrinsic_mtx [[721.15171888   0.         619.74261322]\n",
      " [  0.         721.15171888 357.30179139]\n",
      " [  0.           0.           1.        ]]\n",
      "dist [[ 6.29417639e+00]\n",
      " [ 1.24796650e+00]\n",
      " [ 1.49557219e-03]\n",
      " [-2.58949749e-04]\n",
      " [-1.88194984e-01]\n",
      " [ 6.08914641e+00]\n",
      " [ 1.02078045e+00]\n",
      " [ 2.35821293e-01]\n",
      " [ 0.00000000e+00]\n",
      " [ 0.00000000e+00]\n",
      " [ 0.00000000e+00]\n",
      " [ 0.00000000e+00]\n",
      " [ 0.00000000e+00]\n",
      " [ 0.00000000e+00]]\n"
     ]
    }
   ],
   "source": [
    "print('Intrinsic_mtx', camera_matrix)\n",
    "\n",
    "print('dist', distortion_coefficients)"
   ]
  },
  {
   "attachments": {},
   "cell_type": "markdown",
   "metadata": {},
   "source": [
    "Saving results"
   ]
  },
  {
   "cell_type": "code",
   "execution_count": 60,
   "metadata": {},
   "outputs": [],
   "source": [
    "np.savetxt('Intrinsic_mtx_1.txt', camera_matrix)\n",
    "np.savetxt('dist_1.txt', distortion_coefficients)"
   ]
  }
 ],
 "metadata": {
  "kernelspec": {
   "display_name": "as",
   "language": "python",
   "name": "python3"
  },
  "language_info": {
   "codemirror_mode": {
    "name": "ipython",
    "version": 3
   },
   "file_extension": ".py",
   "mimetype": "text/x-python",
   "name": "python",
   "nbconvert_exporter": "python",
   "pygments_lexer": "ipython3",
   "version": "3.10.6"
  },
  "toc": {
   "base_numbering": 1,
   "nav_menu": {},
   "number_sections": true,
   "sideBar": true,
   "skip_h1_title": false,
   "title_cell": "Table of Contents",
   "title_sidebar": "Contents",
   "toc_cell": false,
   "toc_position": {},
   "toc_section_display": true,
   "toc_window_display": true
  },
  "vscode": {
   "interpreter": {
    "hash": "97bb11cd495b076e0059266e8ff63f9be428e9a3924743c6e525b550f9abe335"
   }
  }
 },
 "nbformat": 4,
 "nbformat_minor": 1
}
