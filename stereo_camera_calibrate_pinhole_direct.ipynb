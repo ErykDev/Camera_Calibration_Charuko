{
 "cells": [
  {
   "attachments": {},
   "cell_type": "markdown",
   "metadata": {},
   "source": [
    "Imports"
   ]
  },
  {
   "cell_type": "code",
   "execution_count": 10,
   "metadata": {
    "pycharm": {
     "name": "#%%\n"
    }
   },
   "outputs": [],
   "source": [
    "import numpy as np\n",
    "import cv2\n",
    "import os\n",
    "import glob\n",
    "\n",
    "import matplotlib.pyplot as plt\n",
    "\n",
    "from calibration_utils import *\n",
    "\n",
    "\n",
    "from cv2 import aruco"
   ]
  },
  {
   "attachments": {},
   "cell_type": "markdown",
   "metadata": {},
   "source": [
    "Setting Source directory for camera calibration"
   ]
  },
  {
   "cell_type": "code",
   "execution_count": 11,
   "metadata": {
    "pycharm": {
     "name": "#%%\n"
    }
   },
   "outputs": [],
   "source": [
    "root = './stereo_kalibracja_07_07_2023/'\n",
    "\n",
    "data_path_left = root + '/cam2/'\n",
    "data_path_right = root + '/cam4/'\n",
    "\n",
    "img_ext = \"*.png\"\n",
    "\n",
    "img_shape = (1280, 720)"
   ]
  },
  {
   "attachments": {},
   "cell_type": "markdown",
   "metadata": {},
   "source": [
    "Setting calibration values"
   ]
  },
  {
   "cell_type": "code",
   "execution_count": 12,
   "metadata": {},
   "outputs": [],
   "source": [
    "board_shape = [11, 7]\n",
    "\n",
    "\n",
    "# termination criteria\n",
    "criteria = (cv2.TERM_CRITERIA_EPS + cv2.TERM_CRITERIA_MAX_ITER, 30, 0.001)"
   ]
  },
  {
   "attachments": {},
   "cell_type": "markdown",
   "metadata": {},
   "source": [
    "Preparing object points"
   ]
  },
  {
   "cell_type": "code",
   "execution_count": 13,
   "metadata": {
    "pycharm": {
     "name": "#%%\n"
    }
   },
   "outputs": [],
   "source": [
    "dictionary = aruco.getPredefinedDictionary(aruco.DICT_4X4_250)\n",
    "parameters =  aruco.DetectorParameters()\n",
    "arucoDetector = aruco.ArucoDetector(dictionary, parameters)\n",
    "\n",
    "\n",
    "board = aruco.CharucoBoard(board_shape, 25, 19.0, dictionary)"
   ]
  },
  {
   "attachments": {},
   "cell_type": "markdown",
   "metadata": {},
   "source": [
    "Flag to display images while collecting data."
   ]
  },
  {
   "cell_type": "code",
   "execution_count": 14,
   "metadata": {},
   "outputs": [],
   "source": [
    "display_images = False"
   ]
  },
  {
   "attachments": {},
   "cell_type": "markdown",
   "metadata": {},
   "source": [
    "Processing Images"
   ]
  },
  {
   "cell_type": "code",
   "execution_count": 15,
   "metadata": {},
   "outputs": [
    {
     "name": "stdout",
     "output_type": "stream",
     "text": [
      "87\n",
      "[1/87]\n",
      "1.png\n",
      "[2/87]\n",
      "10.png\n"
     ]
    },
    {
     "name": "stdout",
     "output_type": "stream",
     "text": [
      "[3/87]\n",
      "11.png\n",
      "[4/87]\n",
      "12.png\n",
      "[5/87]\n",
      "13.png\n",
      "[6/87]\n",
      "14.png\n",
      "[7/87]\n",
      "15.png\n",
      "[8/87]\n",
      "16.png\n",
      "[9/87]\n",
      "17.png\n",
      "[10/87]\n",
      "18.png\n",
      "[11/87]\n",
      "19.png\n",
      "[12/87]\n",
      "2.png\n",
      "[13/87]\n",
      "20.png\n",
      "[14/87]\n",
      "21.png\n",
      "[15/87]\n",
      "22.png\n",
      "[16/87]\n",
      "23.png\n",
      "[17/87]\n",
      "24.png\n",
      "[18/87]\n",
      "25.png\n",
      "[19/87]\n",
      "26.png\n",
      "[20/87]\n",
      "27.png\n",
      "[21/87]\n",
      "28.png\n",
      "[22/87]\n",
      "29.png\n",
      "[23/87]\n",
      "3.png\n",
      "[24/87]\n",
      "30.png\n",
      "[25/87]\n",
      "31.png\n",
      "[26/87]\n",
      "32.png\n",
      "[27/87]\n",
      "33.png\n",
      "[28/87]\n",
      "34.png\n",
      "[29/87]\n",
      "35.png\n",
      "[30/87]\n",
      "36.png\n",
      "[31/87]\n",
      "37.png\n",
      "[32/87]\n",
      "38.png\n",
      "[33/87]\n",
      "39.png\n",
      "[34/87]\n",
      "4.png\n",
      "[35/87]\n",
      "40.png\n",
      "[36/87]\n",
      "41.png\n",
      "[37/87]\n",
      "42.png\n",
      "[38/87]\n",
      "43.png\n",
      "[39/87]\n",
      "44.png\n",
      "[40/87]\n",
      "45.png\n",
      "[41/87]\n",
      "46.png\n",
      "[42/87]\n",
      "47.png\n",
      "[43/87]\n",
      "48.png\n",
      "[44/87]\n",
      "49.png\n",
      "[45/87]\n",
      "5.png\n",
      "[46/87]\n",
      "50.png\n",
      "[47/87]\n",
      "51.png\n",
      "[48/87]\n",
      "52.png\n",
      "[49/87]\n",
      "53.png\n",
      "[50/87]\n",
      "54.png\n",
      "[51/87]\n",
      "55.png\n",
      "[52/87]\n",
      "56.png\n",
      "[53/87]\n",
      "57.png\n",
      "[54/87]\n",
      "58.png\n",
      "[55/87]\n",
      "59.png\n",
      "[56/87]\n",
      "6.png\n",
      "[57/87]\n",
      "60.png\n",
      "[58/87]\n",
      "61.png\n",
      "[59/87]\n",
      "62.png\n",
      "[60/87]\n",
      "63.png\n",
      "[61/87]\n",
      "64.png\n",
      "[62/87]\n",
      "65.png\n",
      "[63/87]\n",
      "66.png\n",
      "[64/87]\n",
      "67.png\n",
      "[65/87]\n",
      "68.png\n",
      "[66/87]\n",
      "69.png\n",
      "[67/87]\n",
      "7.png\n",
      "[68/87]\n",
      "70.png\n",
      "[69/87]\n",
      "71.png\n",
      "[70/87]\n",
      "72.png\n",
      "[71/87]\n",
      "73.png\n",
      "[72/87]\n",
      "74.png\n",
      "[73/87]\n",
      "75.png\n",
      "[74/87]\n",
      "76.png\n",
      "[75/87]\n",
      "77.png\n",
      "[76/87]\n",
      "78.png\n",
      "[77/87]\n",
      "79.png\n",
      "[78/87]\n",
      "8.png\n",
      "[79/87]\n",
      "80.png\n",
      "[80/87]\n",
      "81.png\n",
      "[81/87]\n",
      "82.png\n",
      "[82/87]\n",
      "83.png\n",
      "[83/87]\n",
      "84.png\n",
      "[84/87]\n",
      "85.png\n",
      "[85/87]\n",
      "86.png\n",
      "[86/87]\n",
      "87.png\n",
      "[87/87]\n",
      "9.png\n",
      "\n",
      "Detected 87 point pairs\n"
     ]
    }
   ],
   "source": [
    "\n",
    "images_left = glob.glob(data_path_left + img_ext)\n",
    "images_right = glob.glob(data_path_right + img_ext)\n",
    "images_left.sort()\n",
    "images_right.sort()\n",
    "\n",
    "print(len(images_right))\n",
    "\n",
    "\n",
    "allCornersLeft = []\n",
    "allCornersRight = []\n",
    "allIdsLeft = []\n",
    "allIdsRight = []\n",
    "\n",
    "\n",
    "corner_ids = cornerIds(board_shape)\n",
    "\n",
    "\n",
    "for i, (left_path, right_path) in enumerate(zip(images_left, images_right)):\n",
    "    print(\"[\" + str((i+1)) + \"/\" + str(len(images_right)) + \"]\")\n",
    "    head, tail = os.path.split(left_path)\n",
    "\n",
    "    print(tail)\n",
    "    \n",
    "    \n",
    "    bgr_left = cv2.imread(left_path, cv2.IMREAD_UNCHANGED)\n",
    "    bgr_right = cv2.imread(right_path, cv2.IMREAD_UNCHANGED)\n",
    "\n",
    "    rgb_left = cv2.cvtColor(bgr_left, cv2.COLOR_BGR2RGB)\n",
    "    rgb_right = cv2.cvtColor(bgr_right, cv2.COLOR_BGR2RGB)\n",
    "\n",
    "    gray_left = cv2.cvtColor(bgr_left, cv2.COLOR_BGR2GRAY)\n",
    "    gray_right = cv2.cvtColor(bgr_right, cv2.COLOR_BGR2GRAY)\n",
    "        \n",
    "        \n",
    "    corners_left,  ids_left,  rejectedCorners1 = arucoDetector.detectMarkers(gray_left)\n",
    "    corners_right, ids_right, rejectedCorners2 = arucoDetector.detectMarkers(gray_right)\n",
    "\n",
    "    if len(corners_left) > 16:\n",
    "        for corner in corners_left:\n",
    "            cv2.cornerSubPix(gray_left, corner,\n",
    "                                winSize = (3,3),\n",
    "                                zeroZone = (-1,-1),\n",
    "                                criteria = criteria)\n",
    "        if(display_images):\n",
    "            frame_left_copy = aruco.drawDetectedMarkers(rgb_left, corners_left, ids_left)\n",
    "\n",
    "    if len(corners_right) > 16:\n",
    "        for corner in corners_right:\n",
    "            cv2.cornerSubPix(gray_right, corner,\n",
    "                                winSize = (3,3),\n",
    "                                zeroZone = (-1,-1),\n",
    "                                criteria = criteria)\n",
    "        if(display_images):\n",
    "            frame_right_copy = aruco.drawDetectedMarkers(rgb_right, corners_right, ids_right)\n",
    "            \n",
    "    \n",
    "    if len(corners_left) > 16 and len(corners_right) > 16:\n",
    "        res2_left  = cv2.aruco.interpolateCornersCharuco(corners_left, ids_left, gray_left, board)\n",
    "        res2_right = cv2.aruco.interpolateCornersCharuco(corners_right, ids_right, gray_right, board)\n",
    "       \n",
    "           \n",
    "        if res2_left[1] is not None and res2_right[1] is not None and res2_left[2] is not None and len(res2_left[1])>3 and max(ids_left) <= max(board.getIds()) and max(ids_left) <= max(board.getIds()):\n",
    "\n",
    "            if is_slice_in_list(numpy.squeeze(ids_left).tolist(), corner_ids): # all left corners are detected\n",
    "                if is_slice_in_list(numpy.squeeze(ids_right).tolist(), corner_ids): # all left corners are detected\n",
    "\n",
    "                    allCornersLeft.append(res2_left[1])\n",
    "                    allCornersRight.append(res2_right[1])\n",
    "\n",
    "                    allIdsLeft.append(res2_left[2])\n",
    "                    allIdsRight.append(res2_right[2])\n",
    "\n",
    "\n",
    "    if display_images :\n",
    "        f, axarr = plt.subplots(1,2)\n",
    "        axarr[0].imshow(frame_left_copy)\n",
    "        axarr[1].imshow(frame_right_copy)\n",
    "        plt.show()\n",
    "        \n",
    "\n",
    "print(\"\\nDetected \" + str(len(images_left)) + \" point pairs\")"
   ]
  },
  {
   "attachments": {},
   "cell_type": "markdown",
   "metadata": {},
   "source": [
    "Preparing for stereo calibration"
   ]
  },
  {
   "cell_type": "code",
   "execution_count": 16,
   "metadata": {},
   "outputs": [],
   "source": [
    "cameraMatrixInit = np.array([[ 1000.,    0., img_shape[0] / 2.],\n",
    "                            [    0., 1000.,  img_shape[1] / 2.],\n",
    "                            [    0.,    0.,           1.]])\n",
    "\n",
    "distCoeffsInit = np.zeros((5,1))\n",
    "\n",
    "flags = (cv2.CALIB_USE_INTRINSIC_GUESS + cv2.CALIB_RATIONAL_MODEL + cv2.CALIB_FIX_ASPECT_RATIO)\n",
    "#flags = (cv2.CALIB_RATIONAL_MODEL)"
   ]
  },
  {
   "cell_type": "code",
   "execution_count": 17,
   "metadata": {},
   "outputs": [
    {
     "name": "stdout",
     "output_type": "stream",
     "text": [
      "Calculating ....\n",
      "Done\n"
     ]
    }
   ],
   "source": [
    "print(\"Calculating ....\")\n",
    "                            \n",
    "(ret_left, camera_matrix_left, distortion_coefficients_left,\n",
    "_, _,\n",
    "_, _,\n",
    "_) = aruco.calibrateCameraCharucoExtended(\n",
    "            charucoCorners=allCornersLeft,\n",
    "            charucoIds=allIdsLeft,\n",
    "            board=board,\n",
    "            imageSize=img_shape,\n",
    "            cameraMatrix=cameraMatrixInit.copy(),\n",
    "            distCoeffs=distCoeffsInit.copy(),\n",
    "            flags=flags,\n",
    "            criteria=(cv2.TERM_CRITERIA_EPS & cv2.TERM_CRITERIA_COUNT, 10000, 1e-9))\n",
    "\n",
    "(ret_right, camera_matrix_right, distortion_coefficients_right,\n",
    "_, _,\n",
    "_, _,\n",
    "_) = aruco.calibrateCameraCharucoExtended(\n",
    "            charucoCorners=allCornersRight,\n",
    "            charucoIds=allIdsRight,\n",
    "            board=board,\n",
    "            imageSize=img_shape,\n",
    "            cameraMatrix=cameraMatrixInit.copy(),\n",
    "            distCoeffs=distCoeffsInit.copy(),\n",
    "            flags=flags,\n",
    "            criteria=(cv2.TERM_CRITERIA_EPS & cv2.TERM_CRITERIA_COUNT, 10000, 1e-9))\n",
    "\n",
    "print(\"Done\")"
   ]
  },
  {
   "cell_type": "markdown",
   "metadata": {},
   "source": [
    "Collecting Shared Fetures"
   ]
  },
  {
   "cell_type": "code",
   "execution_count": 18,
   "metadata": {},
   "outputs": [
    {
     "name": "stdout",
     "output_type": "stream",
     "text": [
      "collectng shared corners ....\n",
      "Done\n"
     ]
    }
   ],
   "source": [
    "print(\"collectng shared corners ....\")\n",
    "\n",
    "shared_corners_l, shared_ids_l, shared_corners_r, \\\n",
    "    shared_ids_r = getSharedFetures(\n",
    "        allCornersLeft, \n",
    "        allIdsLeft, \n",
    "        allCornersRight, \n",
    "        allIdsRight, \n",
    "        board)\n",
    "\n",
    "\n",
    "\n",
    "imgPoints_l, objPoints_l = calculateImgPointsObjPoints(shared_ids_l, shared_corners_l, board)\n",
    "imgPoints_r, objPoints_r = calculateImgPointsObjPoints(shared_ids_r, shared_corners_r, board)\n",
    "\n",
    "print(\"Done\")"
   ]
  },
  {
   "attachments": {},
   "cell_type": "markdown",
   "metadata": {},
   "source": [
    "Stereo calibration"
   ]
  },
  {
   "cell_type": "code",
   "execution_count": 19,
   "metadata": {},
   "outputs": [
    {
     "name": "stdout",
     "output_type": "stream",
     "text": [
      "Calculating ....\n",
      "Done\n"
     ]
    }
   ],
   "source": [
    "\n",
    "\n",
    "print(\"Calculating ....\")\n",
    "\n",
    "ret, M1, d1, M2, d2, R, T, E, F = cv2.stereoCalibrate(\n",
    "    objPoints_l, \n",
    "    imgPoints_l,\n",
    "    imgPoints_r,\n",
    "    camera_matrix_left, distortion_coefficients_left, \n",
    "    camera_matrix_right, distortion_coefficients_right, \n",
    "    np.array(img_shape, np.int16),\n",
    "    criteria=(cv2.TERM_CRITERIA_EPS & cv2.TERM_CRITERIA_COUNT, 10000, 1e-10), \n",
    "    flags=flags\n",
    ")\n",
    "\n",
    "print(\"Done\")"
   ]
  },
  {
   "attachments": {},
   "cell_type": "markdown",
   "metadata": {},
   "source": [
    "Display Error"
   ]
  },
  {
   "cell_type": "code",
   "execution_count": 20,
   "metadata": {},
   "outputs": [
    {
     "name": "stdout",
     "output_type": "stream",
     "text": [
      "error: 0.8012264888179846\n"
     ]
    }
   ],
   "source": [
    "print(\"error: {}\".format(ret))"
   ]
  },
  {
   "attachments": {},
   "cell_type": "markdown",
   "metadata": {},
   "source": [
    "Printing results"
   ]
  },
  {
   "cell_type": "code",
   "execution_count": 21,
   "metadata": {},
   "outputs": [
    {
     "name": "stdout",
     "output_type": "stream",
     "text": [
      "Intrinsic_mtx_1 [[721.15383959   0.         617.99175832]\n",
      " [  0.         721.15383959 358.73452559]\n",
      " [  0.           0.           1.        ]]\n",
      "Intrinsic_mtx_2 [[727.77467307   0.         618.10836308]\n",
      " [  0.         727.77467307 359.80047653]\n",
      " [  0.           0.           1.        ]]\n",
      "dist_1 [[ 5.47140688e+00]\n",
      " [-3.74005498e+00]\n",
      " [ 2.96701789e-03]\n",
      " [-2.26053742e-03]\n",
      " [ 4.30713610e+00]\n",
      " [ 5.26941301e+00]\n",
      " [-3.74150551e+00]\n",
      " [ 4.51170346e+00]\n",
      " [ 0.00000000e+00]\n",
      " [ 0.00000000e+00]\n",
      " [ 0.00000000e+00]\n",
      " [ 0.00000000e+00]\n",
      " [ 0.00000000e+00]\n",
      " [ 0.00000000e+00]]\n",
      "dist_2 [[ 3.40114619e+00]\n",
      " [-8.92630926e+00]\n",
      " [ 3.81056610e-03]\n",
      " [ 1.97130110e-04]\n",
      " [ 6.13298568e+00]\n",
      " [ 3.17823730e+00]\n",
      " [-8.48482211e+00]\n",
      " [ 5.90119992e+00]\n",
      " [ 0.00000000e+00]\n",
      " [ 0.00000000e+00]\n",
      " [ 0.00000000e+00]\n",
      " [ 0.00000000e+00]\n",
      " [ 0.00000000e+00]\n",
      " [ 0.00000000e+00]]\n",
      "R [[ 9.99961388e-01  4.45395357e-03 -7.57531990e-03]\n",
      " [-4.45379201e-03  9.99990081e-01  3.81967850e-05]\n",
      " [ 7.57541488e-03 -4.45641088e-06  9.99971306e-01]]\n",
      "T [[123.43650804]\n",
      " [  0.60292956]\n",
      " [  2.58436083]]\n",
      "E [[ 1.60776472e-02 -2.58433788e+00  6.02813542e-01]\n",
      " [ 1.64917828e+00  1.20607069e-02 -1.23452544e+02]\n",
      " [-1.15266681e+00  1.23432598e+02  9.28226202e-03]]\n",
      "F [[-1.17215868e-07  1.88414017e-05 -9.85600666e-03]\n",
      " [-1.20235170e-05 -8.79299203e-08  6.56532487e-01]\n",
      " [ 1.05144793e-02 -6.66538116e-01  1.00000000e+00]]\n",
      "Baseline 12.34650313348777\n"
     ]
    }
   ],
   "source": [
    "print('Intrinsic_mtx_1', M1)\n",
    "print('Intrinsic_mtx_2', M2)\n",
    "\n",
    "print('dist_1', d1)\n",
    "print('dist_2', d2)\n",
    "\n",
    "print('R', R)\n",
    "print('T', T)\n",
    "print('E', E)\n",
    "print('F', F)\n",
    "\n",
    "print('Baseline', np.linalg.norm(T) * 0.1)"
   ]
  },
  {
   "attachments": {},
   "cell_type": "markdown",
   "metadata": {},
   "source": [
    "Saving results"
   ]
  },
  {
   "cell_type": "code",
   "execution_count": 22,
   "metadata": {},
   "outputs": [],
   "source": [
    "np.savetxt('Intrinsic_mtx_1.txt', M1)\n",
    "np.savetxt('Intrinsic_mtx_2.txt', M2)\n",
    "\n",
    "np.savetxt('dist_1.txt', d1)\n",
    "np.savetxt('dist_2.txt', d2)\n",
    "\n",
    "np.savetxt('R.txt', R)\n",
    "np.savetxt('T.txt', T)"
   ]
  }
 ],
 "metadata": {
  "kernelspec": {
   "display_name": "as",
   "language": "python",
   "name": "python3"
  },
  "language_info": {
   "codemirror_mode": {
    "name": "ipython",
    "version": 3
   },
   "file_extension": ".py",
   "mimetype": "text/x-python",
   "name": "python",
   "nbconvert_exporter": "python",
   "pygments_lexer": "ipython3",
   "version": "3.10.6"
  },
  "toc": {
   "base_numbering": 1,
   "nav_menu": {},
   "number_sections": true,
   "sideBar": true,
   "skip_h1_title": false,
   "title_cell": "Table of Contents",
   "title_sidebar": "Contents",
   "toc_cell": false,
   "toc_position": {},
   "toc_section_display": true,
   "toc_window_display": true
  },
  "vscode": {
   "interpreter": {
    "hash": "97bb11cd495b076e0059266e8ff63f9be428e9a3924743c6e525b550f9abe335"
   }
  }
 },
 "nbformat": 4,
 "nbformat_minor": 1
}
